{
  "nbformat": 4,
  "nbformat_minor": 0,
  "metadata": {
    "colab": {
      "name": "TPC4_FilipaSaioteRodrigues_20160070",
      "version": "0.3.2",
      "provenance": [],
      "include_colab_link": true
    },
    "kernelspec": {
      "name": "python3",
      "display_name": "Python 3"
    }
  },
  "cells": [
    {
      "cell_type": "markdown",
      "metadata": {
        "id": "view-in-github",
        "colab_type": "text"
      },
      "source": [
        "<a href=\"https://colab.research.google.com/github/FilipaSaioteRodrigues/TPC.SAD/blob/master/TPC4_FilipaSaioteRodrigues_20160070.ipynb\" target=\"_parent\"><img src=\"https://colab.research.google.com/assets/colab-badge.svg\" alt=\"Open In Colab\"/></a>"
      ]
    },
    {
      "metadata": {
        "id": "SKpBhfK8epPv",
        "colab_type": "code",
        "colab": {
          "base_uri": "https://localhost:8080/",
          "height": 805
        },
        "outputId": "aa455395-121a-4e37-e92a-60364f0f2039"
      },
      "cell_type": "code",
      "source": [
        "#Decision Tree\n",
        "from sklearn import datasets, tree, model_selection\n",
        "\n",
        "import pandas as pd\n",
        "import numpy as np\n",
        "import matplotlib.pyplot as plt\n",
        "\n",
        "\n",
        "\n",
        "#Digitos\n",
        "digits = datasets.load_digits()\n",
        "\n",
        "\n",
        "[features_train, features_test, classes_train, classes_test] = model_selection.train_test_split(digits.data, digits.target, test_size=0.30)\n",
        "model = tree.DecisionTreeClassifier()\n",
        "\n",
        "clf = model.fit(features_train, classes_train)\n",
        "\n",
        "score_train = model.score(features_train, classes_train)\n",
        "score_test = model.score(features_test, classes_test)\n",
        "\n",
        "print(\"Features:\", digits.target_names)\n",
        "print(\"score_train:\", score_train)\n",
        "print(\"score_test:\", score_test)\n",
        "print(\"\")\n",
        "\n",
        "\n",
        "print(\"Resultados mal classificados:\")\n",
        "res = model.predict(features_test)\n",
        "err_features=features_test[res!=classes_test,:][:2]\n",
        "print(\"actual: \",classes_test[res!=classes_test])\n",
        "print(\"predict:\",res[res!=classes_test])\n",
        "\n",
        "#Errados\n",
        "plt.figure()\n",
        "for i,feat in enumerate(err_features):\n",
        "    plt.subplot(1, 2, i+1)    \n",
        "    plt.imshow(feat.reshape(8,8), cmap='gray')\n",
        "\n",
        "plt.show()\n",
        "print(\"\")\n",
        "\n",
        "\n",
        "ok_features=features_test[res==classes_test,:][:2]\n",
        "#Certos\n",
        "print(\"Resultados bem classificados:\")\n",
        "print(\"actual: \",classes_test[res!=classes_test])\n",
        "print(\"predict:\",res[res!=classes_test])\n",
        "plt.figure()\n",
        "for i,feat in enumerate(ok_features):\n",
        "    plt.subplot(1, 2, i+1)    \n",
        "    plt.imshow(feat.reshape(8,8), cmap='gray')"
      ],
      "execution_count": 2,
      "outputs": [
        {
          "output_type": "stream",
          "text": [
            "Features: [0 1 2 3 4 5 6 7 8 9]\n",
            "score_train: 1.0\n",
            "score_test: 0.8518518518518519\n",
            "\n",
            "Resultados mal classificados:\n",
            "actual:  [5 7 9 3 6 8 8 1 8 1 3 0 1 5 3 5 4 3 9 6 0 8 9 7 4 3 1 3 9 4 0 8 8 4 9 1 2\n",
            " 5 4 8 1 9 0 8 4 1 1 8 1 3 3 3 1 8 1 2 4 7 3 8 4 8 9 8 2 4 9 3 8 4 8 1 8 8\n",
            " 5 3 6 5 1 3]\n",
            "predict: [4 4 1 1 5 2 2 8 0 9 4 8 8 9 7 9 7 1 3 4 1 9 7 4 2 8 8 8 3 9 8 9 2 1 3 2 0\n",
            " 4 7 7 7 2 4 9 0 2 9 2 8 7 9 9 3 6 8 1 6 4 8 2 8 9 3 3 1 5 3 9 2 1 1 8 9 2\n",
            " 6 1 4 4 8 9]\n"
          ],
          "name": "stdout"
        },
        {
          "output_type": "display_data",
          "data": {
            "image/png": "[encoded data removed]",
            "text/plain": [
              "<matplotlib.figure.Figure at 0x7f6894e97358>"
            ]
          },
          "metadata": {
            "tags": []
          }
        },
        {
          "output_type": "stream",
          "text": [
            "\n",
            "Resultados bem classificados:\n",
            "actual:  [5 7 9 3 6 8 8 1 8 1 3 0 1 5 3 5 4 3 9 6 0 8 9 7 4 3 1 3 9 4 0 8 8 4 9 1 2\n",
            " 5 4 8 1 9 0 8 4 1 1 8 1 3 3 3 1 8 1 2 4 7 3 8 4 8 9 8 2 4 9 3 8 4 8 1 8 8\n",
            " 5 3 6 5 1 3]\n",
            "predict: [4 4 1 1 5 2 2 8 0 9 4 8 8 9 7 9 7 1 3 4 1 9 7 4 2 8 8 8 3 9 8 9 2 1 3 2 0\n",
            " 4 7 7 7 2 4 9 0 2 9 2 8 7 9 9 3 6 8 1 6 4 8 2 8 9 3 3 1 5 3 9 2 1 1 8 9 2\n",
            " 6 1 4 4 8 9]\n"
          ],
          "name": "stdout"
        },
        {
          "output_type": "display_data",
          "data": {
            "image/png": "[encoded data removed]",
            "text/plain": [
              "<matplotlib.figure.Figure at 0x7f6894e97320>"
            ]
          },
          "metadata": {
            "tags": []
          }
        }
      ]
    },
    {
      "metadata": {
        "id": "SjUTTdo3azJo",
        "colab_type": "code",
        "colab": {
          "base_uri": "https://localhost:8080/",
          "height": 50
        },
        "outputId": "13fa87c4-be3f-402e-cba8-aa72882bc127"
      },
      "cell_type": "code",
      "source": [
        "#Radom Forrest\n",
        "\n",
        "import numpy as np\n",
        "import matplotlib.pyplot as plt\n",
        "from matplotlib.colors import ListedColormap\n",
        "from sklearn.ensemble import RandomForestClassifier\n",
        "from sklearn import datasets\n",
        "\n",
        "\n",
        "# Digitos\n",
        "digits = datasets.load_digits()\n",
        "\n",
        "[features_train, features_test, classes_train, classes_test] = model_selection.train_test_split(digits.data, digits.target, test_size=0.30)\n",
        "model = RandomForestClassifier(n_estimators=1000)\n",
        "\n",
        "clf = model.fit(features_train, classes_train)\n",
        "\n",
        "score_train = model.score(features_train, classes_train)\n",
        "score_test = model.score(features_test, classes_test)\n",
        "\n",
        "print(\"score_train:\", score_train)\n",
        "print(\"score_test:\", score_test)"
      ],
      "execution_count": 3,
      "outputs": [
        {
          "output_type": "stream",
          "text": [
            "score_train: 1.0\n",
            "score_test: 0.9796296296296296\n"
          ],
          "name": "stdout"
        }
      ]
    },
    {
      "metadata": {
        "id": "okcJe63Ka9Yu",
        "colab_type": "code",
        "colab": {
          "base_uri": "https://localhost:8080/",
          "height": 50
        },
        "outputId": "a5bba24f-847c-4daf-cd11-675a4c4db94e"
      },
      "cell_type": "code",
      "source": [
        "#Naive Bayes\n",
        "\n",
        "from sklearn import datasets\n",
        "from sklearn import datasets, tree, model_selection\n",
        "from sklearn.naive_bayes import GaussianNB\n",
        "gnb = GaussianNB()\n",
        "\n",
        "\n",
        "#Digitos\n",
        "digits = datasets.load_digits()\n",
        "\n",
        "[features_train, features_test, classes_train, classes_test] = model_selection.train_test_split(digits.data, digits.target, test_size=0.30)\n",
        "y_pred = gnb.fit(features_train, classes_train)\n",
        "\n",
        "score_train = gnb.score(features_train, classes_train)\n",
        "score_test = gnb.score(features_test, classes_test)\n",
        "\n",
        "print(\"score_train:\", score_train)\n",
        "print(\"score_test:\", score_test)"
      ],
      "execution_count": 4,
      "outputs": [
        {
          "output_type": "stream",
          "text": [
            "score_train: 0.8520286396181385\n",
            "score_test: 0.8037037037037037\n"
          ],
          "name": "stdout"
        }
      ]
    }
  ]
}