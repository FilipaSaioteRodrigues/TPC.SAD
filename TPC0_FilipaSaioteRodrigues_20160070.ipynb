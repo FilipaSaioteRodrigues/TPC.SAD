{
  "nbformat": 4,
  "nbformat_minor": 0,
  "metadata": {
    "colab": {
      "name": "TPC0_FilipaSaioteRodrigues_20160070.ipynb",
      "version": "0.3.2",
      "provenance": [],
      "collapsed_sections": [],
      "include_colab_link": true
    },
    "kernelspec": {
      "name": "python2",
      "display_name": "Python 2"
    }
  },
  "cells": [
    {
      "cell_type": "markdown",
      "metadata": {
        "id": "view-in-github",
        "colab_type": "text"
      },
      "source": [
        "[View in Colaboratory](https://colab.research.google.com/github/FilipaSaioteRodrigues/TPC.SAD/blob/master/TPC0_FilipaSaioteRodrigues_20160070.ipynb)"
      ]
    },
    {
      "metadata": {
        "id": "jkUK_TazfLyH",
        "colab_type": "code",
        "colab": {}
      },
      "cell_type": "code",
      "source": [
        "def solution(S):\n",
        "  \n",
        "#se S estiver vazio\n",
        "    if not S:\n",
        "        return 1\n",
        "  \n",
        "#Verificar que S têm a forma correta\n",
        "    while len(S) != 0:\n",
        "        str = S\n",
        "        S = S.replace('()', '').replace('[]', '').replace('{}', '')\n",
        "        if str is S:\n",
        "            return 0\n",
        "      \n",
        "    return 1\n",
        "    \n",
        "    \n",
        "print(solution('{[()()]}'))\n",
        "print(solution('([) ()'))"
      ],
      "execution_count": 0,
      "outputs": []
    }
  ]
}