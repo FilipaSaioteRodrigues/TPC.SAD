{
  "nbformat": 4,
  "nbformat_minor": 0,
  "metadata": {
    "colab": {
      "name": "TPC2_FilipaSaioteRodrigues_20160070.ipynb",
      "version": "0.3.2",
      "provenance": [],
      "include_colab_link": true
    },
    "kernelspec": {
      "name": "python2",
      "display_name": "Python 2"
    }
  },
  "cells": [
    {
      "cell_type": "markdown",
      "metadata": {
        "id": "view-in-github",
        "colab_type": "text"
      },
      "source": [
        "<a href=\"https://colab.research.google.com/github/FilipaSaioteRodrigues/TPC.SAD/blob/master/TPC2_FilipaSaioteRodrigues_20160070.ipynb\" target=\"_parent\"><img src=\"https://colab.research.google.com/assets/colab-badge.svg\" alt=\"Open In Colab\"/></a>"
      ]
    },
    {
      "metadata": {
        "id": "s6ynjq1frmn6",
        "colab_type": "code",
        "colab": {
          "base_uri": "https://localhost:8080/",
          "height": 50
        },
        "outputId": "07ea5be7-8c5e-487e-ce97-ffc26914e8cd"
      },
      "cell_type": "code",
      "source": [
        "A = [\"1P\", \"1C\", \"1O\", \"2P\", \"2C\", \"2O\", \"2E\", \"3P\", \"3C\", \"3O\", \"3E\", \"4P\", \"4C\", \"4O\", \"4E\", \"5P\", \"5C\", \"5O\", \"5E\",\n",
        "     \"6P\", \"6C\", \"6O\", \"6E\", \"7P\", \"7C\", \"7O\", \"7E\", \"8P\", \"8C\", \"8O\", \"8E\", \"9P\", \"9C\", \"9O\", \"9E\", \"DP\", \"DC\", \"DO\",\n",
        "     \"DE\", \"JP\", \"JC\", \"JO\", \"JE\", \"VP\", \"VC\", \"VO\", \"VE\", \"RP\", \"RC\", \"RO\", \"RE\", \"1P\", \"1C\", \"1O\", \"1E\", \"2P\", \"2C\",\n",
        "     \"2O\", \"2E\", \"3P\", \"3C\", \"3O\", \"3E\", \"4P\", \"4C\", \"4O\", \"4E\", \"5P\", \"5C\", \"5O\", \"5E\", \"6P\", \"6C\", \"6O\", \"6E\", \"7P\",\n",
        "     \"7C\", \"7O\", \"7E\", \"8P\", \"8C\", \"8O\", \"8E\", \"9P\", \"9C\", \"9O\", \"9E\", \"DP\", \"DC\", \"DO\", \"DE\", \"JP\", \"JC\", \"JO\", \"JE\",\n",
        "     \"VP\", \"VC\", \"VO\", \"VE\", \"RP\", \"RC\", \"RO\", \"RE\", \"1P\", \"1C\", \"1O\", \"1E\", \"2P\", \"2C\", \"2O\", \"2E\", \"3P\", \"3C\", \"3O\",\n",
        "     \"3E\", \"4P\", \"4C\", \"4O\", \"4E\", \"5P\", \"5C\", \"5O\", \"5E\", \"6P\", \"6C\", \"6O\", \"6E\", \"7P\", \"7C\", \"7O\", \"7E\", \"8P\", \"8C\",\n",
        "     \"8O\", \"8E\", \"9P\", \"9C\", \"9O\", \"9E\", \"DP\", \"DC\", \"DO\", \"DE\", \"JP\", \"JC\", \"JO\", \"JE\", \"VP\", \"VC\", \"VO\", \"VE\", \"RP\",\n",
        "     \"RC\", \"RO\", \"RE\"]\n",
        "\n",
        "B = {'1P': 0, '1E': 0, '1C': 0, '1O': 0, '2P': 0, '2E': 0, '2C': 0, '2O': 0, '3P': 0, '3E': 0, '3C': 0, '3O': 0, '4P': 0, '4E': 0, '4C': 0, '4O': 0, '5P': 0, '5E': 0, '5C': 0, '5O': 0, '6P': 0, '6E': 0, '6C': 0, '6O': 0, '7P': 0, '7E': 0, '7C': 0, '7O': 0, '8P': 0, '8E': 0, '8C': 0, '8O': 0, '9P': 0, '9E': 0, '9C': 0, '9O': 0, 'JP': 0, 'JE': 0, 'JC': 0, 'JO': 0, 'DP': 0, 'DE': 0, 'DC': 0, 'DO': 0, 'VP': 0, 'VE': 0, 'VC': 0, 'VO': 0, 'RP': 0, 'RE': 0, 'RC': 0, 'RO': 0}\n",
        "\n",
        "for i in range(0, len(A)):\n",
        "    B[A[i]] += 1\n",
        "\n",
        "minvalue = min(B.values())\n",
        "print('Número de baralhos de cartas: ')\n",
        "print(minvalue)  "
      ],
      "execution_count": 6,
      "outputs": [
        {
          "output_type": "stream",
          "text": [
            "Número de baralhos de cartas: \n",
            "2\n"
          ],
          "name": "stdout"
        }
      ]
    }
  ]
}